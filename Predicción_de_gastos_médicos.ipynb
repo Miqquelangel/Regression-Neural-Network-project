{
  "nbformat": 4,
  "nbformat_minor": 0,
  "metadata": {
    "colab": {
      "name": "Predicción_de_gastos_médicos.ipynb",
      "provenance": [],
      "collapsed_sections": [],
      "toc_visible": true,
      "include_colab_link": true
    },
    "kernelspec": {
      "name": "python3",
      "display_name": "Python 3"
    },
    "language_info": {
      "name": "python"
    }
  },
  "cells": [
    {
      "cell_type": "markdown",
      "metadata": {
        "id": "view-in-github",
        "colab_type": "text"
      },
      "source": [
        "<a href=\"https://colab.research.google.com/github/Miqquelangel/Proyecto-1-Regression/blob/main/Predicci%C3%B3n_de_gastos_m%C3%A9dicos.ipynb\" target=\"_parent\"><img src=\"https://colab.research.google.com/assets/colab-badge.svg\" alt=\"Open In Colab\"/></a>"
      ]
    },
    {
      "cell_type": "markdown",
      "metadata": {
        "id": "1e9AmyZl9reh"
      },
      "source": [
        "#OVERVIEW\n",
        "Este proyecto es una adaptación de otro realizado en el curso **TensorFlow Developer Certificate in 2021: Zero to Mastery.**\n",
        "\n",
        "Vamos a proceder a estimar los gastos médicos de una aseguradora según diferentes variables de sus clientes como la edad, cantidad de hijos, etc. Las variables los veremos más adelante cuando visualicemos los datos con los cuales vamos a trabajar.\n",
        "\n",
        "**-Funciones a realizar:**\n",
        "\n",
        "* Visualizar los datos con los cuales vamos a trabajar y prepararlos para ser introducidos en nuestro modelo (normalización).\n",
        "* Creación de un modelo de regresión lineal con los algoritmos más adaptados a nuestras necesidades. En este modelo concreto, trabajaremos con el algoritmo \"MAE\" (Mean Absolute Error), y el optimizador ADAM.\n",
        "* Visualizacion de la arquitectura de nuestro modelo y representación de forma gráfica de los parámetros obtenidos del mismo.\n",
        "* Representación gráfica de las predicciones de nuestro modelo y análisis.\n"
      ]
    },
    {
      "cell_type": "markdown",
      "metadata": {
        "id": "-vK15tS7Dn_f"
      },
      "source": [
        "#PREPARACIÓN DEL ENTORNO DE TRABAJO\n"
      ]
    },
    {
      "cell_type": "code",
      "metadata": {
        "id": "6n3EvSCWDurt"
      },
      "source": [
        "#Vamos a empezar importando las librerias que vayamos a necesitar. A medida que vayamos necesitando más importaremos las correspondientes.\n",
        "import tensorflow as tf\n",
        "from tensorflow.keras.utils import plot_model\n",
        "import pandas as pd\n",
        "import matplotlib.pyplot as plt\n",
        "from sklearn.model_selection import train_test_split\n",
        "import numpy as np\n",
        "from sklearn.compose import make_column_transformer\n",
        "from sklearn.preprocessing import MinMaxScaler, OneHotEncoder"
      ],
      "execution_count": null,
      "outputs": []
    },
    {
      "cell_type": "markdown",
      "metadata": {
        "id": "4ORUsY-CAWtB"
      },
      "source": [
        "#RECOLECCIÓN DE DATOS Y PREPROCESAMIENTO"
      ]
    },
    {
      "cell_type": "markdown",
      "metadata": {
        "id": "079fCbM6DQkk"
      },
      "source": [
        "**Visualización de nuestros datos**"
      ]
    },
    {
      "cell_type": "code",
      "metadata": {
        "colab": {
          "base_uri": "https://localhost:8080/",
          "height": 417
        },
        "id": "cRd4AvC9DZrr",
        "outputId": "7f62f3b8-4ded-4f7c-e13c-61beca79cc2b"
      },
      "source": [
        "# La plantilla de datos que vamos a utilizar nos la proporciona la empresa en formato CSV, asi que vamos a proceder a descargarla:\n",
        "aseguradora = pd.read_csv(\"https://raw.githubusercontent.com/stedy/Machine-Learning-with-R-datasets/master/insurance.csv\")\n",
        "aseguradora # Como podemos observar necesitamos procesar estos datos ya que las columnas con texto tendran que ser convertidas a formato numérico.\n",
        "           # Los datos numéricos, serán convertidos mediante normalización, para que nuestro modelo sea más eficiente a la hora de trabajar."
      ],
      "execution_count": null,
      "outputs": [
        {
          "output_type": "execute_result",
          "data": {
            "text/html": [
              "<div>\n",
              "<style scoped>\n",
              "    .dataframe tbody tr th:only-of-type {\n",
              "        vertical-align: middle;\n",
              "    }\n",
              "\n",
              "    .dataframe tbody tr th {\n",
              "        vertical-align: top;\n",
              "    }\n",
              "\n",
              "    .dataframe thead th {\n",
              "        text-align: right;\n",
              "    }\n",
              "</style>\n",
              "<table border=\"1\" class=\"dataframe\">\n",
              "  <thead>\n",
              "    <tr style=\"text-align: right;\">\n",
              "      <th></th>\n",
              "      <th>age</th>\n",
              "      <th>sex</th>\n",
              "      <th>bmi</th>\n",
              "      <th>children</th>\n",
              "      <th>smoker</th>\n",
              "      <th>region</th>\n",
              "      <th>charges</th>\n",
              "    </tr>\n",
              "  </thead>\n",
              "  <tbody>\n",
              "    <tr>\n",
              "      <th>0</th>\n",
              "      <td>19</td>\n",
              "      <td>female</td>\n",
              "      <td>27.900</td>\n",
              "      <td>0</td>\n",
              "      <td>yes</td>\n",
              "      <td>southwest</td>\n",
              "      <td>16884.92400</td>\n",
              "    </tr>\n",
              "    <tr>\n",
              "      <th>1</th>\n",
              "      <td>18</td>\n",
              "      <td>male</td>\n",
              "      <td>33.770</td>\n",
              "      <td>1</td>\n",
              "      <td>no</td>\n",
              "      <td>southeast</td>\n",
              "      <td>1725.55230</td>\n",
              "    </tr>\n",
              "    <tr>\n",
              "      <th>2</th>\n",
              "      <td>28</td>\n",
              "      <td>male</td>\n",
              "      <td>33.000</td>\n",
              "      <td>3</td>\n",
              "      <td>no</td>\n",
              "      <td>southeast</td>\n",
              "      <td>4449.46200</td>\n",
              "    </tr>\n",
              "    <tr>\n",
              "      <th>3</th>\n",
              "      <td>33</td>\n",
              "      <td>male</td>\n",
              "      <td>22.705</td>\n",
              "      <td>0</td>\n",
              "      <td>no</td>\n",
              "      <td>northwest</td>\n",
              "      <td>21984.47061</td>\n",
              "    </tr>\n",
              "    <tr>\n",
              "      <th>4</th>\n",
              "      <td>32</td>\n",
              "      <td>male</td>\n",
              "      <td>28.880</td>\n",
              "      <td>0</td>\n",
              "      <td>no</td>\n",
              "      <td>northwest</td>\n",
              "      <td>3866.85520</td>\n",
              "    </tr>\n",
              "    <tr>\n",
              "      <th>...</th>\n",
              "      <td>...</td>\n",
              "      <td>...</td>\n",
              "      <td>...</td>\n",
              "      <td>...</td>\n",
              "      <td>...</td>\n",
              "      <td>...</td>\n",
              "      <td>...</td>\n",
              "    </tr>\n",
              "    <tr>\n",
              "      <th>1333</th>\n",
              "      <td>50</td>\n",
              "      <td>male</td>\n",
              "      <td>30.970</td>\n",
              "      <td>3</td>\n",
              "      <td>no</td>\n",
              "      <td>northwest</td>\n",
              "      <td>10600.54830</td>\n",
              "    </tr>\n",
              "    <tr>\n",
              "      <th>1334</th>\n",
              "      <td>18</td>\n",
              "      <td>female</td>\n",
              "      <td>31.920</td>\n",
              "      <td>0</td>\n",
              "      <td>no</td>\n",
              "      <td>northeast</td>\n",
              "      <td>2205.98080</td>\n",
              "    </tr>\n",
              "    <tr>\n",
              "      <th>1335</th>\n",
              "      <td>18</td>\n",
              "      <td>female</td>\n",
              "      <td>36.850</td>\n",
              "      <td>0</td>\n",
              "      <td>no</td>\n",
              "      <td>southeast</td>\n",
              "      <td>1629.83350</td>\n",
              "    </tr>\n",
              "    <tr>\n",
              "      <th>1336</th>\n",
              "      <td>21</td>\n",
              "      <td>female</td>\n",
              "      <td>25.800</td>\n",
              "      <td>0</td>\n",
              "      <td>no</td>\n",
              "      <td>southwest</td>\n",
              "      <td>2007.94500</td>\n",
              "    </tr>\n",
              "    <tr>\n",
              "      <th>1337</th>\n",
              "      <td>61</td>\n",
              "      <td>female</td>\n",
              "      <td>29.070</td>\n",
              "      <td>0</td>\n",
              "      <td>yes</td>\n",
              "      <td>northwest</td>\n",
              "      <td>29141.36030</td>\n",
              "    </tr>\n",
              "  </tbody>\n",
              "</table>\n",
              "<p>1338 rows × 7 columns</p>\n",
              "</div>"
            ],
            "text/plain": [
              "      age     sex     bmi  children smoker     region      charges\n",
              "0      19  female  27.900         0    yes  southwest  16884.92400\n",
              "1      18    male  33.770         1     no  southeast   1725.55230\n",
              "2      28    male  33.000         3     no  southeast   4449.46200\n",
              "3      33    male  22.705         0     no  northwest  21984.47061\n",
              "4      32    male  28.880         0     no  northwest   3866.85520\n",
              "...   ...     ...     ...       ...    ...        ...          ...\n",
              "1333   50    male  30.970         3     no  northwest  10600.54830\n",
              "1334   18  female  31.920         0     no  northeast   2205.98080\n",
              "1335   18  female  36.850         0     no  southeast   1629.83350\n",
              "1336   21  female  25.800         0     no  southwest   2007.94500\n",
              "1337   61  female  29.070         0    yes  northwest  29141.36030\n",
              "\n",
              "[1338 rows x 7 columns]"
            ]
          },
          "metadata": {
            "tags": []
          },
          "execution_count": 2
        }
      ]
    },
    {
      "cell_type": "markdown",
      "metadata": {
        "id": "qVNFIr7NGATD"
      },
      "source": [
        "**Preprocesamiento**"
      ]
    },
    {
      "cell_type": "code",
      "metadata": {
        "id": "D4sZ8luZGPuV"
      },
      "source": [
        "# Vamos a convertir las distintas columnas de nuestra plantillas para que nuestro modelo entrene de manera óptima:\n",
        "ct = make_column_transformer(\n",
        "    (MinMaxScaler(), [\"age\",\"bmi\",\"children\"]),\n",
        "    (OneHotEncoder(handle_unknown=\"ignore\"),[\"sex\",\"smoker\",\"region\"])\n",
        ")\n",
        "\n",
        "\n",
        "# Vamos a crear X e Y:\n",
        "x = aseguradora.drop(\"charges\",axis=1)\n",
        "y = aseguradora[\"charges\"] \n",
        "\n",
        "\n",
        "# Vamos a crear nuestros sets de entrenamiento al 80% de nuestros datos totales(se utilizarán en el modelo) y de testeo al 20% (se utilizarán en las predicciones)\n",
        "xt, xtest, yt, ytest = train_test_split(x, y, test_size=0.2,random_state=42)\n",
        "\n",
        "# Procedemos a normalizar los datos que se utilizarán en el modelo de entrenamiento y en las predicciones:\n",
        "ct.fit(xt)\n",
        "xt_normalizado=ct.transform(xt)\n",
        "xtest_normalizado=ct.transform(xtest)"
      ],
      "execution_count": null,
      "outputs": []
    },
    {
      "cell_type": "markdown",
      "metadata": {
        "id": "A6fBu1QzMFJT"
      },
      "source": [
        "**Visualizar nuestros datos**"
      ]
    },
    {
      "cell_type": "code",
      "metadata": {
        "colab": {
          "base_uri": "https://localhost:8080/",
          "height": 417
        },
        "id": "CUzmtDJvJGV2",
        "outputId": "90b22ab6-fc08-4b68-b6f7-e807a6bd6cd5"
      },
      "source": [
        "x"
      ],
      "execution_count": null,
      "outputs": [
        {
          "output_type": "execute_result",
          "data": {
            "text/html": [
              "<div>\n",
              "<style scoped>\n",
              "    .dataframe tbody tr th:only-of-type {\n",
              "        vertical-align: middle;\n",
              "    }\n",
              "\n",
              "    .dataframe tbody tr th {\n",
              "        vertical-align: top;\n",
              "    }\n",
              "\n",
              "    .dataframe thead th {\n",
              "        text-align: right;\n",
              "    }\n",
              "</style>\n",
              "<table border=\"1\" class=\"dataframe\">\n",
              "  <thead>\n",
              "    <tr style=\"text-align: right;\">\n",
              "      <th></th>\n",
              "      <th>age</th>\n",
              "      <th>sex</th>\n",
              "      <th>bmi</th>\n",
              "      <th>children</th>\n",
              "      <th>smoker</th>\n",
              "      <th>region</th>\n",
              "    </tr>\n",
              "  </thead>\n",
              "  <tbody>\n",
              "    <tr>\n",
              "      <th>0</th>\n",
              "      <td>19</td>\n",
              "      <td>female</td>\n",
              "      <td>27.900</td>\n",
              "      <td>0</td>\n",
              "      <td>yes</td>\n",
              "      <td>southwest</td>\n",
              "    </tr>\n",
              "    <tr>\n",
              "      <th>1</th>\n",
              "      <td>18</td>\n",
              "      <td>male</td>\n",
              "      <td>33.770</td>\n",
              "      <td>1</td>\n",
              "      <td>no</td>\n",
              "      <td>southeast</td>\n",
              "    </tr>\n",
              "    <tr>\n",
              "      <th>2</th>\n",
              "      <td>28</td>\n",
              "      <td>male</td>\n",
              "      <td>33.000</td>\n",
              "      <td>3</td>\n",
              "      <td>no</td>\n",
              "      <td>southeast</td>\n",
              "    </tr>\n",
              "    <tr>\n",
              "      <th>3</th>\n",
              "      <td>33</td>\n",
              "      <td>male</td>\n",
              "      <td>22.705</td>\n",
              "      <td>0</td>\n",
              "      <td>no</td>\n",
              "      <td>northwest</td>\n",
              "    </tr>\n",
              "    <tr>\n",
              "      <th>4</th>\n",
              "      <td>32</td>\n",
              "      <td>male</td>\n",
              "      <td>28.880</td>\n",
              "      <td>0</td>\n",
              "      <td>no</td>\n",
              "      <td>northwest</td>\n",
              "    </tr>\n",
              "    <tr>\n",
              "      <th>...</th>\n",
              "      <td>...</td>\n",
              "      <td>...</td>\n",
              "      <td>...</td>\n",
              "      <td>...</td>\n",
              "      <td>...</td>\n",
              "      <td>...</td>\n",
              "    </tr>\n",
              "    <tr>\n",
              "      <th>1333</th>\n",
              "      <td>50</td>\n",
              "      <td>male</td>\n",
              "      <td>30.970</td>\n",
              "      <td>3</td>\n",
              "      <td>no</td>\n",
              "      <td>northwest</td>\n",
              "    </tr>\n",
              "    <tr>\n",
              "      <th>1334</th>\n",
              "      <td>18</td>\n",
              "      <td>female</td>\n",
              "      <td>31.920</td>\n",
              "      <td>0</td>\n",
              "      <td>no</td>\n",
              "      <td>northeast</td>\n",
              "    </tr>\n",
              "    <tr>\n",
              "      <th>1335</th>\n",
              "      <td>18</td>\n",
              "      <td>female</td>\n",
              "      <td>36.850</td>\n",
              "      <td>0</td>\n",
              "      <td>no</td>\n",
              "      <td>southeast</td>\n",
              "    </tr>\n",
              "    <tr>\n",
              "      <th>1336</th>\n",
              "      <td>21</td>\n",
              "      <td>female</td>\n",
              "      <td>25.800</td>\n",
              "      <td>0</td>\n",
              "      <td>no</td>\n",
              "      <td>southwest</td>\n",
              "    </tr>\n",
              "    <tr>\n",
              "      <th>1337</th>\n",
              "      <td>61</td>\n",
              "      <td>female</td>\n",
              "      <td>29.070</td>\n",
              "      <td>0</td>\n",
              "      <td>yes</td>\n",
              "      <td>northwest</td>\n",
              "    </tr>\n",
              "  </tbody>\n",
              "</table>\n",
              "<p>1338 rows × 6 columns</p>\n",
              "</div>"
            ],
            "text/plain": [
              "      age     sex     bmi  children smoker     region\n",
              "0      19  female  27.900         0    yes  southwest\n",
              "1      18    male  33.770         1     no  southeast\n",
              "2      28    male  33.000         3     no  southeast\n",
              "3      33    male  22.705         0     no  northwest\n",
              "4      32    male  28.880         0     no  northwest\n",
              "...   ...     ...     ...       ...    ...        ...\n",
              "1333   50    male  30.970         3     no  northwest\n",
              "1334   18  female  31.920         0     no  northeast\n",
              "1335   18  female  36.850         0     no  southeast\n",
              "1336   21  female  25.800         0     no  southwest\n",
              "1337   61  female  29.070         0    yes  northwest\n",
              "\n",
              "[1338 rows x 6 columns]"
            ]
          },
          "metadata": {
            "tags": []
          },
          "execution_count": 34
        }
      ]
    },
    {
      "cell_type": "code",
      "metadata": {
        "colab": {
          "base_uri": "https://localhost:8080/"
        },
        "id": "grTWZS28MMw_",
        "outputId": "b383fce5-87e8-48bc-d51d-e8b12324a2d1"
      },
      "source": [
        "y"
      ],
      "execution_count": null,
      "outputs": [
        {
          "output_type": "execute_result",
          "data": {
            "text/plain": [
              "0       16884.92400\n",
              "1        1725.55230\n",
              "2        4449.46200\n",
              "3       21984.47061\n",
              "4        3866.85520\n",
              "           ...     \n",
              "1333    10600.54830\n",
              "1334     2205.98080\n",
              "1335     1629.83350\n",
              "1336     2007.94500\n",
              "1337    29141.36030\n",
              "Name: charges, Length: 1338, dtype: float64"
            ]
          },
          "metadata": {
            "tags": []
          },
          "execution_count": 35
        }
      ]
    },
    {
      "cell_type": "code",
      "metadata": {
        "colab": {
          "base_uri": "https://localhost:8080/"
        },
        "id": "eNdDauXmMhtr",
        "outputId": "6971f0e0-317b-44f7-8711-16d71c4ea48a"
      },
      "source": [
        "xt_normalizado"
      ],
      "execution_count": null,
      "outputs": [
        {
          "output_type": "execute_result",
          "data": {
            "text/plain": [
              "array([[0.60869565, 0.10734463, 0.4       , ..., 1.        , 0.        ,\n",
              "        0.        ],\n",
              "       [0.63043478, 0.22491256, 0.        , ..., 0.        , 0.        ,\n",
              "        0.        ],\n",
              "       [0.73913043, 0.23944041, 0.        , ..., 0.        , 1.        ,\n",
              "        0.        ],\n",
              "       ...,\n",
              "       [0.86956522, 0.24791499, 0.        , ..., 0.        , 0.        ,\n",
              "        0.        ],\n",
              "       [0.41304348, 0.85122411, 0.4       , ..., 0.        , 0.        ,\n",
              "        1.        ],\n",
              "       [0.80434783, 0.37503363, 0.        , ..., 0.        , 0.        ,\n",
              "        1.        ]])"
            ]
          },
          "metadata": {
            "tags": []
          },
          "execution_count": 36
        }
      ]
    },
    {
      "cell_type": "markdown",
      "metadata": {
        "id": "BR_o84a5MpGX"
      },
      "source": [
        "##CREACIÓN DEL MODELO PRIMIGENIO"
      ]
    },
    {
      "cell_type": "markdown",
      "metadata": {
        "id": "_wk0KM8CRo7Y"
      },
      "source": [
        "**Modelo con 'Callbacks' para poder realizar los siguientes modelos.**"
      ]
    },
    {
      "cell_type": "code",
      "metadata": {
        "colab": {
          "base_uri": "https://localhost:8080/"
        },
        "id": "f7S0djQtM9va",
        "outputId": "ebbcad3e-0af3-4ae4-a4c0-2dcdf6f41e01"
      },
      "source": [
        "# Vamos a empezar a crear nuestro modelo con callbacks.\n",
        "# De esta manera podremos representar gráficos del 'MAE' respecto al 'lr'(Learning rate) para que en los proximos modelos los resultados sean más precisos.\n",
        "\n",
        "tf.keras.set_seed = 42 # Set_seed es importante ya que necesitamos la máxima reproducibilidad.\n",
        "\n",
        "# Creación del modelo utilizando API secuencial.\n",
        "Modelo_callback = tf.keras.Sequential([\n",
        "   tf.keras.layers.Dense(10, activation = \"relu\"), # Utilizamos la funcion 'ReLu' ya que los valores que queremos predecir, son mayores que 0.\n",
        "   tf.keras.layers.Dense(10, activation = \"relu\"),\n",
        "   tf.keras.layers.Dense(1, activation=\"relu\") # Nuestro output layer será de valor '1' ya que solo pretendemos predecir un único valor.\n",
        "])\n",
        "\n",
        "# Compilamos el modelo.\n",
        "Modelo_callback.compile(loss = \"mae\",\n",
        "           optimizer = \"Adam\",\n",
        "           metrics = [\"mae\"])\n",
        "\n",
        "# Establecemos un set de valores del learning rate empezando desde 1e-4, incrementando 10**(epoch/20) cada epoch.\n",
        "lr_ratio = tf.keras.callbacks.LearningRateScheduler(lambda epoch:1e-4*10**(epoch/20))\n",
        "\n",
        "# Encajamos el modelo.\n",
        "history_callback = Modelo_callback.fit(xt_normalizado, yt, epochs=170, verbose=0, callbacks = [lr_ratio])\n",
        "\n",
        "# Evaluamos el modelo\n",
        "Modelo_callback.evaluate(xt_normalizado, yt)"
      ],
      "execution_count": null,
      "outputs": [
        {
          "output_type": "stream",
          "text": [
            "34/34 [==============================] - 0s 1ms/step - loss: 8355.3320 - mae: 8355.3320\n"
          ],
          "name": "stdout"
        },
        {
          "output_type": "execute_result",
          "data": {
            "text/plain": [
              "[8355.33203125, 8355.33203125]"
            ]
          },
          "metadata": {
            "tags": []
          },
          "execution_count": 127
        }
      ]
    },
    {
      "cell_type": "markdown",
      "metadata": {
        "id": "_arDpslXWk7D"
      },
      "source": [
        "**Arquitectura de nuestro modelo Callback.**"
      ]
    },
    {
      "cell_type": "code",
      "metadata": {
        "colab": {
          "base_uri": "https://localhost:8080/"
        },
        "id": "_ZBl5za6V-Am",
        "outputId": "aab79ae2-f4f1-4b60-f1f5-8f2a76937764"
      },
      "source": [
        "Modelo_callback.summary()"
      ],
      "execution_count": null,
      "outputs": [
        {
          "output_type": "stream",
          "text": [
            "Model: \"sequential_32\"\n",
            "_________________________________________________________________\n",
            "Layer (type)                 Output Shape              Param #   \n",
            "=================================================================\n",
            "dense_59 (Dense)             (None, 10)                120       \n",
            "_________________________________________________________________\n",
            "dense_60 (Dense)             (None, 10)                110       \n",
            "_________________________________________________________________\n",
            "dense_61 (Dense)             (None, 1)                 11        \n",
            "=================================================================\n",
            "Total params: 241\n",
            "Trainable params: 241\n",
            "Non-trainable params: 0\n",
            "_________________________________________________________________\n"
          ],
          "name": "stdout"
        }
      ]
    },
    {
      "cell_type": "code",
      "metadata": {
        "colab": {
          "base_uri": "https://localhost:8080/",
          "height": 422
        },
        "id": "_a6Ck8f1WIs_",
        "outputId": "9869919d-973c-4760-9ab5-11ca31d4852f"
      },
      "source": [
        "plot_model(Modelo_callback,show_shapes=True)"
      ],
      "execution_count": null,
      "outputs": [
        {
          "output_type": "execute_result",
          "data": {
            "image/png": "[encoded data removed]",
            "text/plain": [
              "<IPython.core.display.Image object>"
            ]
          },
          "metadata": {
            "tags": []
          },
          "execution_count": 263
        }
      ]
    },
    {
      "cell_type": "markdown",
      "metadata": {
        "id": "v2FHLH63Wwdl"
      },
      "source": [
        "\n",
        "\n",
        "**Representación gráfica de nuestro modelo callback para optimizar los siguientes modelos.**"
      ]
    },
    {
      "cell_type": "code",
      "metadata": {
        "id": "BfF5ZcR-NqT6"
      },
      "source": [
        "# Vamos a definir 2 funciones para poder visualizar el 'MAE' respecto el learning rate.\n",
        "def grafico_mae_lr(history):\n",
        "  pd.DataFrame(history.history).plot(figsize=(10,8),xlabel=\"epochs\") \n",
        "\n",
        "def lr_loss(history):\n",
        "  plt.figure(figsize=(20,7))\n",
        "  plt.semilogx(lrs,history.history[\"loss\"])\n",
        "  plt.xlabel(\"learning rate\")\n",
        "  plt.ylabel(\"loss\")"
      ],
      "execution_count": null,
      "outputs": []
    },
    {
      "cell_type": "code",
      "metadata": {
        "colab": {
          "base_uri": "https://localhost:8080/",
          "height": 963
        },
        "id": "XpuWBLiwNu4Y",
        "outputId": "ed23f9d7-de86-459f-903b-b93c7278afd0"
      },
      "source": [
        "grafico_mae_lr(history_callback), lr_loss(history_callback)"
      ],
      "execution_count": null,
      "outputs": [
        {
          "output_type": "execute_result",
          "data": {
            "text/plain": [
              "(None, None)"
            ]
          },
          "metadata": {
            "tags": []
          },
          "execution_count": 128
        },
        {
          "output_type": "display_data",
          "data": {
            "image/png": "[encoded data removed]",
            "text/plain": [
              "<Figure size 720x576 with 1 Axes>"
            ]
          },
          "metadata": {
            "tags": [],
            "needs_background": "light"
          }
        },
        {
          "output_type": "display_data",
          "data": {
            "image/png": "[encoded data removed]",
            "text/plain": [
              "<Figure size 1440x504 with 1 Axes>"
            ]
          },
          "metadata": {
            "tags": [],
            "needs_background": "light"
          }
        }
      ]
    },
    {
      "cell_type": "markdown",
      "metadata": {
        "id": "H6nwBMzcS-Tu"
      },
      "source": [
        "#MODELOS DE ENTRENAMIENTO"
      ]
    },
    {
      "cell_type": "markdown",
      "metadata": {
        "id": "nI7eecjcTRKn"
      },
      "source": [
        "**Vamos a comenzar con nuestro primer modelo de entrenamiento utilizando la misma arquitectura \n",
        "pero probando distintos valores de Learning rate y epochs.**"
      ]
    },
    {
      "cell_type": "code",
      "metadata": {
        "id": "PYhJ2d1RckJZ"
      },
      "source": [
        "# Vamos a realizar el primer modelo de entrenamiento con un valor aproximado.\n",
        "\n",
        "# Teniendo en cuenta que:\n",
        "# lr_ratio = tf.keras.callbacks.LearningRateScheduler(lambda epoch:1e-4*10**(epoch/20))\n",
        "\n",
        "# Deducimos:\n",
        "lr_valor = 1e-4 *10**(tf.range(170)/20) # 170 epochs porque son los epochs del modelo callback."
      ],
      "execution_count": null,
      "outputs": []
    },
    {
      "cell_type": "markdown",
      "metadata": {
        "id": "DnUaa20JftDT"
      },
      "source": [
        "\n",
        "\n",
        "#***Modelo_1***\n",
        "\n",
        "**Learning rate de 60 epochs.**"
      ]
    },
    {
      "cell_type": "code",
      "metadata": {
        "colab": {
          "base_uri": "https://localhost:8080/"
        },
        "id": "3oAZVUxKgSOn",
        "outputId": "24e386be-0030-43b3-e380-1db9f9ca10d9"
      },
      "source": [
        "lr_valor[60]"
      ],
      "execution_count": null,
      "outputs": [
        {
          "output_type": "execute_result",
          "data": {
            "text/plain": [
              "<tf.Tensor: shape=(), dtype=float64, numpy=0.10000000000000002>"
            ]
          },
          "metadata": {
            "tags": []
          },
          "execution_count": 139
        }
      ]
    },
    {
      "cell_type": "code",
      "metadata": {
        "colab": {
          "base_uri": "https://localhost:8080/"
        },
        "id": "ViNObBMYcV9t",
        "outputId": "28da9c60-912d-44d7-c27d-4576743f8b31"
      },
      "source": [
        "tf.keras.set_seed = 42 \n",
        "\n",
        "# Creación del modelo utilizando API secuencial.\n",
        "Modelo_1 = tf.keras.Sequential([\n",
        "   tf.keras.layers.Dense(10, activation = \"relu\"),\n",
        "   tf.keras.layers.Dense(10, activation = \"relu\"),\n",
        "   tf.keras.layers.Dense(1) \n",
        "])\n",
        "\n",
        "# Compilamos el modelo.\n",
        "Modelo_1.compile(loss = \"mae\",\n",
        "           optimizer = tf.keras.optimizers.Adam(0.10000000000000002),\n",
        "           metrics = [\"mae\"])\n",
        "\n",
        "# Encajamos el modelo.\n",
        "history_1 = Modelo_1.fit(xt_normalizado, yt, epochs=60, verbose=0)\n",
        "\n",
        "# Evaluamos el modelo.\n",
        "Modelo_1.evaluate(xt_normalizado, yt)"
      ],
      "execution_count": null,
      "outputs": [
        {
          "output_type": "stream",
          "text": [
            "34/34 [==============================] - 0s 1ms/step - loss: 2107.5359 - mae: 2107.5359\n"
          ],
          "name": "stdout"
        },
        {
          "output_type": "execute_result",
          "data": {
            "text/plain": [
              "[2107.535888671875, 2107.535888671875]"
            ]
          },
          "metadata": {
            "tags": []
          },
          "execution_count": 275
        }
      ]
    },
    {
      "cell_type": "markdown",
      "metadata": {
        "id": "KNicz28Kh5pE"
      },
      "source": [
        "**Funciones 'MAE' y 'MSE' para visualizar este modelo y comparar los siguientes:**\n",
        "\n",
        "\n"
      ]
    },
    {
      "cell_type": "code",
      "metadata": {
        "id": "MXOnNwfMkQRD"
      },
      "source": [
        "# Definimos las funciones:\n",
        "def mae(modelo):\n",
        "  y_pred = modelo.predict(xtest_normalizado)\n",
        "  return tf.metrics.mean_absolute_error(ytest, tf.squeeze(y_pred)).numpy()\n",
        "\n",
        "def mse(modelo):\n",
        "  y_pred = modelo.predict(xtest_normalizado)\n",
        "  return tf.metrics.mean_squared_error(ytest, tf.squeeze(y_pred)).numpy()\n",
        "\n",
        "def mae_mse(modelo):\n",
        "  resultado_modelo = [[\"Modelo\", mae(modelo), mse(modelo)]]\n",
        "  return pd.DataFrame(resultado_modelo, columns=[\"Modelo\", \"MAE\", \"MSE\"])\n",
        "\n",
        "def mae_grafico(history):\n",
        "  pd.DataFrame(history.history).plot()\n",
        "  plt.ylabel(\"loss\")\n",
        "  plt.xlabel(\"epochs\")"
      ],
      "execution_count": null,
      "outputs": []
    },
    {
      "cell_type": "code",
      "metadata": {
        "colab": {
          "base_uri": "https://localhost:8080/",
          "height": 80
        },
        "id": "hPhZguoem0xc",
        "outputId": "fa139ee9-a662-4283-f260-15deda729a57"
      },
      "source": [
        "# Visualizamos el 'MAE y el 'MSE' de nuestro Modelo_1 respectivamente:\n",
        "mae_mse(Modelo_1)"
      ],
      "execution_count": null,
      "outputs": [
        {
          "output_type": "execute_result",
          "data": {
            "text/html": [
              "<div>\n",
              "<style scoped>\n",
              "    .dataframe tbody tr th:only-of-type {\n",
              "        vertical-align: middle;\n",
              "    }\n",
              "\n",
              "    .dataframe tbody tr th {\n",
              "        vertical-align: top;\n",
              "    }\n",
              "\n",
              "    .dataframe thead th {\n",
              "        text-align: right;\n",
              "    }\n",
              "</style>\n",
              "<table border=\"1\" class=\"dataframe\">\n",
              "  <thead>\n",
              "    <tr style=\"text-align: right;\">\n",
              "      <th></th>\n",
              "      <th>Modelo</th>\n",
              "      <th>MAE</th>\n",
              "      <th>MSE</th>\n",
              "    </tr>\n",
              "  </thead>\n",
              "  <tbody>\n",
              "    <tr>\n",
              "      <th>0</th>\n",
              "      <td>Modelo</td>\n",
              "      <td>1788.066406</td>\n",
              "      <td>21212808.0</td>\n",
              "    </tr>\n",
              "  </tbody>\n",
              "</table>\n",
              "</div>"
            ],
            "text/plain": [
              "   Modelo          MAE         MSE\n",
              "0  Modelo  1788.066406  21212808.0"
            ]
          },
          "metadata": {
            "tags": []
          },
          "execution_count": 276
        }
      ]
    },
    {
      "cell_type": "code",
      "metadata": {
        "colab": {
          "base_uri": "https://localhost:8080/",
          "height": 279
        },
        "id": "JBKCWhX7uZ8o",
        "outputId": "6e326182-edf8-4425-cef1-bfe286148465"
      },
      "source": [
        "# Visualizamos el 'MAE' gráficamente.\n",
        "mae_grafico(history_1)"
      ],
      "execution_count": null,
      "outputs": [
        {
          "output_type": "display_data",
          "data": {
            "image/png": "[encoded data removed]",
            "text/plain": [
              "<Figure size 432x288 with 1 Axes>"
            ]
          },
          "metadata": {
            "tags": [],
            "needs_background": "light"
          }
        }
      ]
    },
    {
      "cell_type": "markdown",
      "metadata": {
        "id": "B66G-Qt_lxaC"
      },
      "source": [
        "\n",
        "#***Modelo_2 (misma arquitectura que el Modelo_1, distinto Learning rate, diferente epochs)***\n",
        "\n"
      ]
    },
    {
      "cell_type": "code",
      "metadata": {
        "colab": {
          "base_uri": "https://localhost:8080/"
        },
        "id": "Z_IyWcpQtIAQ",
        "outputId": "4d4e2f77-4ffa-4e52-bf39-359367db4904"
      },
      "source": [
        "lr_valor[75]"
      ],
      "execution_count": null,
      "outputs": [
        {
          "output_type": "execute_result",
          "data": {
            "text/plain": [
              "<tf.Tensor: shape=(), dtype=float64, numpy=0.5623413251903492>"
            ]
          },
          "metadata": {
            "tags": []
          },
          "execution_count": 191
        }
      ]
    },
    {
      "cell_type": "code",
      "metadata": {
        "colab": {
          "base_uri": "https://localhost:8080/"
        },
        "id": "G2alMhsXihkH",
        "outputId": "d3168b02-6226-4e5c-ad97-a5270b5a46c9"
      },
      "source": [
        "tf.keras.set_seed = 42 \n",
        "\n",
        "# Creación del modelo utilizando API secuencial.\n",
        "Modelo_2 = tf.keras.Sequential([\n",
        "   tf.keras.layers.Dense(10, activation = \"relu\"),\n",
        "   tf.keras.layers.Dense(10, activation = \"relu\"),\n",
        "   tf.keras.layers.Dense(1)\n",
        "])\n",
        "\n",
        "# Compilamos el modelo.\n",
        "Modelo_2.compile(loss = \"mae\",\n",
        "           optimizer = tf.keras.optimizers.Adam(0.5623413251903492),\n",
        "           metrics = [\"mae\"])\n",
        "\n",
        "# Encajamos el modelo.\n",
        "history_2 = Modelo_2.fit(xt_normalizado, yt, epochs=75, verbose=0)\n",
        "\n",
        "# Evaluamos el modelo\n",
        "Modelo_2.evaluate(xt_normalizado, yt)"
      ],
      "execution_count": null,
      "outputs": [
        {
          "output_type": "stream",
          "text": [
            "34/34 [==============================] - 0s 1ms/step - loss: 2214.5405 - mae: 2214.5405\n"
          ],
          "name": "stdout"
        },
        {
          "output_type": "execute_result",
          "data": {
            "text/plain": [
              "[2214.54052734375, 2214.54052734375]"
            ]
          },
          "metadata": {
            "tags": []
          },
          "execution_count": 273
        }
      ]
    },
    {
      "cell_type": "markdown",
      "metadata": {
        "id": "uXiqOhG2tSdC"
      },
      "source": [
        "**Visualizamos el 'MAE' y el 'MSE':**"
      ]
    },
    {
      "cell_type": "code",
      "metadata": {
        "colab": {
          "base_uri": "https://localhost:8080/",
          "height": 80
        },
        "id": "aDwfz0s2tdTR",
        "outputId": "cbef5b0e-8e9b-465b-c84e-d18c3b4d463a"
      },
      "source": [
        "mae_mse(Modelo_2)"
      ],
      "execution_count": null,
      "outputs": [
        {
          "output_type": "execute_result",
          "data": {
            "text/html": [
              "<div>\n",
              "<style scoped>\n",
              "    .dataframe tbody tr th:only-of-type {\n",
              "        vertical-align: middle;\n",
              "    }\n",
              "\n",
              "    .dataframe tbody tr th {\n",
              "        vertical-align: top;\n",
              "    }\n",
              "\n",
              "    .dataframe thead th {\n",
              "        text-align: right;\n",
              "    }\n",
              "</style>\n",
              "<table border=\"1\" class=\"dataframe\">\n",
              "  <thead>\n",
              "    <tr style=\"text-align: right;\">\n",
              "      <th></th>\n",
              "      <th>Modelo</th>\n",
              "      <th>MAE</th>\n",
              "      <th>MSE</th>\n",
              "    </tr>\n",
              "  </thead>\n",
              "  <tbody>\n",
              "    <tr>\n",
              "      <th>0</th>\n",
              "      <td>Modelo</td>\n",
              "      <td>2029.165527</td>\n",
              "      <td>22135990.0</td>\n",
              "    </tr>\n",
              "  </tbody>\n",
              "</table>\n",
              "</div>"
            ],
            "text/plain": [
              "   Modelo          MAE         MSE\n",
              "0  Modelo  2029.165527  22135990.0"
            ]
          },
          "metadata": {
            "tags": []
          },
          "execution_count": 274
        }
      ]
    },
    {
      "cell_type": "code",
      "metadata": {
        "colab": {
          "base_uri": "https://localhost:8080/",
          "height": 280
        },
        "id": "ITmkq4RVuCZ9",
        "outputId": "2c0f8856-3831-4ba8-fb4f-9010ef3db65d"
      },
      "source": [
        "mae_grafico(history_2)"
      ],
      "execution_count": null,
      "outputs": [
        {
          "output_type": "display_data",
          "data": {
            "image/png": "[encoded data removed]",
            "text/plain": [
              "<Figure size 432x288 with 1 Axes>"
            ]
          },
          "metadata": {
            "tags": [],
            "needs_background": "light"
          }
        }
      ]
    },
    {
      "cell_type": "markdown",
      "metadata": {
        "id": "zGedpdfrzvpK"
      },
      "source": [
        "#***Modelo_3 (diferente arquitectura, mismo learning rate, diferente epochs)***\n",
        "\n"
      ]
    },
    {
      "cell_type": "code",
      "metadata": {
        "colab": {
          "base_uri": "https://localhost:8080/"
        },
        "id": "AjF5x6OXz2as",
        "outputId": "d5b4fd52-3e68-41ee-98c3-67665ff0f638"
      },
      "source": [
        "tf.keras.set_seed = 42 \n",
        "\n",
        "# Creación del modelo utilizando API secuencial.\n",
        "Modelo_3 = tf.keras.Sequential([\n",
        "   tf.keras.layers.Dense(100, activation = \"relu\"),\n",
        "   tf.keras.layers.Dense(100, activation = \"relu\"),\n",
        "   tf.keras.layers.Dense(1)\n",
        "])\n",
        "\n",
        "# Compilamos el modelo.\n",
        "Modelo_3.compile(loss = \"mae\",\n",
        "           optimizer = tf.keras.optimizers.Adam(0.5623413251903492),\n",
        "           metrics = [\"mae\"])\n",
        "\n",
        "# Encajamos el modelo.\n",
        "history_3 = Modelo_3.fit(xt_normalizado, yt, epochs=105, verbose=0)\n",
        "\n",
        "# Evaluamos el modelo\n",
        "Modelo_3.evaluate(xt_normalizado, yt)"
      ],
      "execution_count": null,
      "outputs": [
        {
          "output_type": "stream",
          "text": [
            "34/34 [==============================] - 0s 1ms/step - loss: 1707.5151 - mae: 1707.5151\n"
          ],
          "name": "stdout"
        },
        {
          "output_type": "execute_result",
          "data": {
            "text/plain": [
              "[1707.51513671875, 1707.51513671875]"
            ]
          },
          "metadata": {
            "tags": []
          },
          "execution_count": 256
        }
      ]
    },
    {
      "cell_type": "markdown",
      "metadata": {
        "id": "syuYU7pv18xr"
      },
      "source": [
        "**Visualización de la arquitectura:**"
      ]
    },
    {
      "cell_type": "code",
      "metadata": {
        "colab": {
          "base_uri": "https://localhost:8080/"
        },
        "id": "I0Xzq9rN02An",
        "outputId": "a338ca33-3ef4-4987-f931-d4780507a6d8"
      },
      "source": [
        "Modelo_3.summary()"
      ],
      "execution_count": null,
      "outputs": [
        {
          "output_type": "stream",
          "text": [
            "Model: \"sequential_48\"\n",
            "_________________________________________________________________\n",
            "Layer (type)                 Output Shape              Param #   \n",
            "=================================================================\n",
            "dense_107 (Dense)            (None, 100)               1200      \n",
            "_________________________________________________________________\n",
            "dense_108 (Dense)            (None, 100)               10100     \n",
            "_________________________________________________________________\n",
            "dense_109 (Dense)            (None, 1)                 101       \n",
            "=================================================================\n",
            "Total params: 11,401\n",
            "Trainable params: 11,401\n",
            "Non-trainable params: 0\n",
            "_________________________________________________________________\n"
          ],
          "name": "stdout"
        }
      ]
    },
    {
      "cell_type": "code",
      "metadata": {
        "colab": {
          "base_uri": "https://localhost:8080/",
          "height": 422
        },
        "id": "YP9lmNCR1ok5",
        "outputId": "fa19418a-b1df-447a-9a06-0492efe14cac"
      },
      "source": [
        "plot_model(Modelo_3,show_shapes=True)"
      ],
      "execution_count": null,
      "outputs": [
        {
          "output_type": "execute_result",
          "data": {
            "image/png": "[encoded data removed]",
            "text/plain": [
              "<IPython.core.display.Image object>"
            ]
          },
          "metadata": {
            "tags": []
          },
          "execution_count": 264
        }
      ]
    },
    {
      "cell_type": "markdown",
      "metadata": {
        "id": "YLarlUdo2MnR"
      },
      "source": [
        "**Visualizamos el 'MAE' y el 'MSE':**"
      ]
    },
    {
      "cell_type": "code",
      "metadata": {
        "colab": {
          "base_uri": "https://localhost:8080/",
          "height": 80
        },
        "id": "ExTkTCWQ0do6",
        "outputId": "f735a01e-3baf-4bed-c665-e3021cbb3138"
      },
      "source": [
        "mae_mse(Modelo_3)"
      ],
      "execution_count": null,
      "outputs": [
        {
          "output_type": "execute_result",
          "data": {
            "text/html": [
              "<div>\n",
              "<style scoped>\n",
              "    .dataframe tbody tr th:only-of-type {\n",
              "        vertical-align: middle;\n",
              "    }\n",
              "\n",
              "    .dataframe tbody tr th {\n",
              "        vertical-align: top;\n",
              "    }\n",
              "\n",
              "    .dataframe thead th {\n",
              "        text-align: right;\n",
              "    }\n",
              "</style>\n",
              "<table border=\"1\" class=\"dataframe\">\n",
              "  <thead>\n",
              "    <tr style=\"text-align: right;\">\n",
              "      <th></th>\n",
              "      <th>Modelo</th>\n",
              "      <th>MAE</th>\n",
              "      <th>MSE</th>\n",
              "    </tr>\n",
              "  </thead>\n",
              "  <tbody>\n",
              "    <tr>\n",
              "      <th>0</th>\n",
              "      <td>Modelo</td>\n",
              "      <td>1462.739868</td>\n",
              "      <td>18999580.0</td>\n",
              "    </tr>\n",
              "  </tbody>\n",
              "</table>\n",
              "</div>"
            ],
            "text/plain": [
              "   Modelo          MAE         MSE\n",
              "0  Modelo  1462.739868  18999580.0"
            ]
          },
          "metadata": {
            "tags": []
          },
          "execution_count": 265
        }
      ]
    },
    {
      "cell_type": "code",
      "metadata": {
        "colab": {
          "base_uri": "https://localhost:8080/",
          "height": 280
        },
        "id": "Xz87mDxw2R-8",
        "outputId": "5f5137a1-024a-4278-cc78-459e6e74755f"
      },
      "source": [
        "mae_grafico(history_3)"
      ],
      "execution_count": null,
      "outputs": [
        {
          "output_type": "display_data",
          "data": {
            "image/png": "[encoded data removed]",
            "text/plain": [
              "<Figure size 432x288 with 1 Axes>"
            ]
          },
          "metadata": {
            "tags": [],
            "needs_background": "light"
          }
        }
      ]
    },
    {
      "cell_type": "markdown",
      "metadata": {
        "id": "YyhmEw6D4gqx"
      },
      "source": [
        "#***Modelo_4 (experimentación aleatoria para obtener el valor de 'MAE' más bajo)***"
      ]
    },
    {
      "cell_type": "code",
      "metadata": {
        "colab": {
          "base_uri": "https://localhost:8080/"
        },
        "id": "oZmKY5jp4x2E",
        "outputId": "cae4aaad-0e7d-492e-8530-b7551c01331a"
      },
      "source": [
        "tf.keras.set_seed = 42 \n",
        "\n",
        "# Creación del modelo utilizando API secuencial.\n",
        "Modelo_4 = tf.keras.Sequential([\n",
        "   tf.keras.layers.Dense(100, activation = \"relu\"),\n",
        "   tf.keras.layers.Dense(100, activation = \"relu\"),\n",
        "   tf.keras.layers.Dense(1)\n",
        "])\n",
        "\n",
        "# Compilamos el modelo.\n",
        "Modelo_4.compile(loss = \"mae\",\n",
        "           optimizer = tf.keras.optimizers.Adam(0.5623411903492),\n",
        "           metrics = [\"mae\"])\n",
        "\n",
        "# Encajamos el modelo.\n",
        "history_4 = Modelo_4.fit(xt_normalizado, yt, epochs=125, verbose=0)\n",
        "\n",
        "# Evaluamos el modelo\n",
        "Modelo_4.evaluate(xt_normalizado, yt)"
      ],
      "execution_count": null,
      "outputs": [
        {
          "output_type": "stream",
          "text": [
            "34/34 [==============================] - 0s 1ms/step - loss: 1808.2025 - mae: 1808.2025\n"
          ],
          "name": "stdout"
        },
        {
          "output_type": "execute_result",
          "data": {
            "text/plain": [
              "[1808.2025146484375, 1808.2025146484375]"
            ]
          },
          "metadata": {
            "tags": []
          },
          "execution_count": 290
        }
      ]
    },
    {
      "cell_type": "code",
      "metadata": {
        "colab": {
          "base_uri": "https://localhost:8080/",
          "height": 80
        },
        "id": "O1mWZZyk48lz",
        "outputId": "540a0c9e-c820-437e-9c27-0c9247a7d648"
      },
      "source": [
        "mae_mse(Modelo_4)"
      ],
      "execution_count": null,
      "outputs": [
        {
          "output_type": "execute_result",
          "data": {
            "text/html": [
              "<div>\n",
              "<style scoped>\n",
              "    .dataframe tbody tr th:only-of-type {\n",
              "        vertical-align: middle;\n",
              "    }\n",
              "\n",
              "    .dataframe tbody tr th {\n",
              "        vertical-align: top;\n",
              "    }\n",
              "\n",
              "    .dataframe thead th {\n",
              "        text-align: right;\n",
              "    }\n",
              "</style>\n",
              "<table border=\"1\" class=\"dataframe\">\n",
              "  <thead>\n",
              "    <tr style=\"text-align: right;\">\n",
              "      <th></th>\n",
              "      <th>Modelo</th>\n",
              "      <th>MAE</th>\n",
              "      <th>MSE</th>\n",
              "    </tr>\n",
              "  </thead>\n",
              "  <tbody>\n",
              "    <tr>\n",
              "      <th>0</th>\n",
              "      <td>Modelo</td>\n",
              "      <td>1582.044678</td>\n",
              "      <td>19792340.0</td>\n",
              "    </tr>\n",
              "  </tbody>\n",
              "</table>\n",
              "</div>"
            ],
            "text/plain": [
              "   Modelo          MAE         MSE\n",
              "0  Modelo  1582.044678  19792340.0"
            ]
          },
          "metadata": {
            "tags": []
          },
          "execution_count": 291
        }
      ]
    },
    {
      "cell_type": "code",
      "metadata": {
        "colab": {
          "base_uri": "https://localhost:8080/",
          "height": 279
        },
        "id": "13iIZyt45BSE",
        "outputId": "7f61b8e7-b474-43fd-bdf6-727bbb6e7f5c"
      },
      "source": [
        "mae_grafico(history_4)"
      ],
      "execution_count": null,
      "outputs": [
        {
          "output_type": "display_data",
          "data": {
            "image/png": "[encoded data removed]",
            "text/plain": [
              "<Figure size 432x288 with 1 Axes>"
            ]
          },
          "metadata": {
            "tags": [],
            "needs_background": "light"
          }
        }
      ]
    },
    {
      "cell_type": "markdown",
      "metadata": {
        "id": "ZvH5Siav5nkk"
      },
      "source": [
        "#***Modelo_5 (segunda experimentación aleatoria para obtener el valor de 'MAE' más bajo)***"
      ]
    },
    {
      "cell_type": "code",
      "metadata": {
        "colab": {
          "base_uri": "https://localhost:8080/"
        },
        "id": "L-SWYZ9t53R8",
        "outputId": "58393075-6aea-4572-bd81-9f7aaaf53201"
      },
      "source": [
        "tf.keras.set_seed = 42 \n",
        "\n",
        "# Creación del modelo utilizando API secuencial.\n",
        "Modelo_5 = tf.keras.Sequential([\n",
        "   tf.keras.layers.Dense(100, activation = \"relu\"),\n",
        "   tf.keras.layers.Dense(100, activation = \"relu\"),\n",
        "   tf.keras.layers.Dense(1)\n",
        "])\n",
        "\n",
        "# Compilamos el modelo.\n",
        "Modelo_5.compile(loss = \"mae\",\n",
        "           optimizer = tf.keras.optimizers.Adam(0.50499999999999996),\n",
        "           metrics = [\"mae\"])\n",
        "\n",
        "# Encajamos el modelo.\n",
        "history_5 = Modelo_5.fit(xt_normalizado, yt, epochs=80, verbose=0)\n",
        "\n",
        "# Evaluamos el modelo\n",
        "Modelo_5.evaluate(xt_normalizado, yt)"
      ],
      "execution_count": null,
      "outputs": [
        {
          "output_type": "stream",
          "text": [
            "34/34 [==============================] - 0s 1ms/step - loss: 1720.4823 - mae: 1720.4823\n"
          ],
          "name": "stdout"
        },
        {
          "output_type": "execute_result",
          "data": {
            "text/plain": [
              "[1720.4822998046875, 1720.4822998046875]"
            ]
          },
          "metadata": {
            "tags": []
          },
          "execution_count": 382
        }
      ]
    },
    {
      "cell_type": "code",
      "metadata": {
        "colab": {
          "base_uri": "https://localhost:8080/",
          "height": 80
        },
        "id": "1gVAJ7gI6CMl",
        "outputId": "813b7f0c-0ec1-487c-ab6a-00879e70d9cd"
      },
      "source": [
        "mae_mse(Modelo_5)"
      ],
      "execution_count": null,
      "outputs": [
        {
          "output_type": "execute_result",
          "data": {
            "text/html": [
              "<div>\n",
              "<style scoped>\n",
              "    .dataframe tbody tr th:only-of-type {\n",
              "        vertical-align: middle;\n",
              "    }\n",
              "\n",
              "    .dataframe tbody tr th {\n",
              "        vertical-align: top;\n",
              "    }\n",
              "\n",
              "    .dataframe thead th {\n",
              "        text-align: right;\n",
              "    }\n",
              "</style>\n",
              "<table border=\"1\" class=\"dataframe\">\n",
              "  <thead>\n",
              "    <tr style=\"text-align: right;\">\n",
              "      <th></th>\n",
              "      <th>Modelo</th>\n",
              "      <th>MAE</th>\n",
              "      <th>MSE</th>\n",
              "    </tr>\n",
              "  </thead>\n",
              "  <tbody>\n",
              "    <tr>\n",
              "      <th>0</th>\n",
              "      <td>Modelo</td>\n",
              "      <td>1518.762451</td>\n",
              "      <td>19148414.0</td>\n",
              "    </tr>\n",
              "  </tbody>\n",
              "</table>\n",
              "</div>"
            ],
            "text/plain": [
              "   Modelo          MAE         MSE\n",
              "0  Modelo  1518.762451  19148414.0"
            ]
          },
          "metadata": {
            "tags": []
          },
          "execution_count": 383
        }
      ]
    },
    {
      "cell_type": "code",
      "metadata": {
        "colab": {
          "base_uri": "https://localhost:8080/",
          "height": 279
        },
        "id": "blElneyB6G-p",
        "outputId": "0b931883-cc5b-485e-96de-967b659854e2"
      },
      "source": [
        "mae_grafico(history_5)"
      ],
      "execution_count": null,
      "outputs": [
        {
          "output_type": "display_data",
          "data": {
            "image/png": "[encoded data removed]",
            "text/plain": [
              "<Figure size 432x288 with 1 Axes>"
            ]
          },
          "metadata": {
            "tags": [],
            "needs_background": "light"
          }
        }
      ]
    },
    {
      "cell_type": "markdown",
      "metadata": {
        "id": "On_CJPxu-wf4"
      },
      "source": [
        "#COMPARACIÓN DE MODELOS"
      ]
    },
    {
      "cell_type": "markdown",
      "metadata": {
        "id": "ohSaP_sE-8Np"
      },
      "source": [
        "**Vamos a comparar los resultados obtenidos entre los distintos modelos para escoger el definitivo.**"
      ]
    },
    {
      "cell_type": "code",
      "metadata": {
        "colab": {
          "base_uri": "https://localhost:8080/",
          "height": 203
        },
        "id": "o1LG8d0y_JAS",
        "outputId": "2d629dfb-d3c5-4d2f-c093-46adf430f59f"
      },
      "source": [
        "resultados = [[\"Modelo_1\", mae(Modelo_1), mse(Modelo_1)],\n",
        "                 [\"Modelo_2\", mae(Modelo_2), mse(Modelo_2)],\n",
        "                 [\"Modelo_3\", mae(Modelo_3), mae(Modelo_3)],\n",
        "                 [\"Modelo_4\", mae(Modelo_4), mse(Modelo_4)],\n",
        "                 [\"Modelo_5\", mae(Modelo_5), mae(Modelo_5)]]\n",
        "\n",
        "comparativa=pd.DataFrame(resultados, columns=[\"Modelos\", \"MAE\", \"MSE\"])\n",
        "comparativa"
      ],
      "execution_count": null,
      "outputs": [
        {
          "output_type": "execute_result",
          "data": {
            "text/html": [
              "<div>\n",
              "<style scoped>\n",
              "    .dataframe tbody tr th:only-of-type {\n",
              "        vertical-align: middle;\n",
              "    }\n",
              "\n",
              "    .dataframe tbody tr th {\n",
              "        vertical-align: top;\n",
              "    }\n",
              "\n",
              "    .dataframe thead th {\n",
              "        text-align: right;\n",
              "    }\n",
              "</style>\n",
              "<table border=\"1\" class=\"dataframe\">\n",
              "  <thead>\n",
              "    <tr style=\"text-align: right;\">\n",
              "      <th></th>\n",
              "      <th>Modelos</th>\n",
              "      <th>MAE</th>\n",
              "      <th>MSE</th>\n",
              "    </tr>\n",
              "  </thead>\n",
              "  <tbody>\n",
              "    <tr>\n",
              "      <th>0</th>\n",
              "      <td>Modelo_1</td>\n",
              "      <td>1788.066406</td>\n",
              "      <td>2.121281e+07</td>\n",
              "    </tr>\n",
              "    <tr>\n",
              "      <th>1</th>\n",
              "      <td>Modelo_2</td>\n",
              "      <td>2029.165527</td>\n",
              "      <td>2.213599e+07</td>\n",
              "    </tr>\n",
              "    <tr>\n",
              "      <th>2</th>\n",
              "      <td>Modelo_3</td>\n",
              "      <td>1462.739868</td>\n",
              "      <td>1.462740e+03</td>\n",
              "    </tr>\n",
              "    <tr>\n",
              "      <th>3</th>\n",
              "      <td>Modelo_4</td>\n",
              "      <td>1582.044678</td>\n",
              "      <td>1.979234e+07</td>\n",
              "    </tr>\n",
              "    <tr>\n",
              "      <th>4</th>\n",
              "      <td>Modelo_5</td>\n",
              "      <td>1518.762451</td>\n",
              "      <td>1.518762e+03</td>\n",
              "    </tr>\n",
              "  </tbody>\n",
              "</table>\n",
              "</div>"
            ],
            "text/plain": [
              "    Modelos          MAE           MSE\n",
              "0  Modelo_1  1788.066406  2.121281e+07\n",
              "1  Modelo_2  2029.165527  2.213599e+07\n",
              "2  Modelo_3  1462.739868  1.462740e+03\n",
              "3  Modelo_4  1582.044678  1.979234e+07\n",
              "4  Modelo_5  1518.762451  1.518762e+03"
            ]
          },
          "metadata": {
            "tags": []
          },
          "execution_count": 386
        }
      ]
    },
    {
      "cell_type": "markdown",
      "metadata": {
        "id": "q0b62gR9AFEC"
      },
      "source": [
        "**Como podemos observar el Modelo_3 tiene el 'MAE' más bajo, por tanto, será nuestro modelo óptimo.**"
      ]
    },
    {
      "cell_type": "markdown",
      "metadata": {
        "id": "FVszbo1ZBIZb"
      },
      "source": [
        "#ARQUITECTURA E INFORMACIÓN SOBRE EL MODELO FINAL ESCOGIDO (MODELO_3)"
      ]
    },
    {
      "cell_type": "code",
      "metadata": {
        "colab": {
          "base_uri": "https://localhost:8080/",
          "height": 658
        },
        "id": "feMpuFEWBYeb",
        "outputId": "2dd7a83f-249d-4872-82b5-ace8529679d8"
      },
      "source": [
        "Modelo_3.summary(),\n",
        "plot_model(Modelo_3, show_shapes=True)"
      ],
      "execution_count": null,
      "outputs": [
        {
          "output_type": "stream",
          "text": [
            "Model: \"sequential_48\"\n",
            "_________________________________________________________________\n",
            "Layer (type)                 Output Shape              Param #   \n",
            "=================================================================\n",
            "dense_107 (Dense)            (None, 100)               1200      \n",
            "_________________________________________________________________\n",
            "dense_108 (Dense)            (None, 100)               10100     \n",
            "_________________________________________________________________\n",
            "dense_109 (Dense)            (None, 1)                 101       \n",
            "=================================================================\n",
            "Total params: 11,401\n",
            "Trainable params: 11,401\n",
            "Non-trainable params: 0\n",
            "_________________________________________________________________\n"
          ],
          "name": "stdout"
        },
        {
          "output_type": "execute_result",
          "data": {
            "image/png": "[encoded data removed]",
            "text/plain": [
              "<IPython.core.display.Image object>"
            ]
          },
          "metadata": {
            "tags": []
          },
          "execution_count": 393
        }
      ]
    },
    {
      "cell_type": "code",
      "metadata": {
        "colab": {
          "base_uri": "https://localhost:8080/",
          "height": 80
        },
        "id": "VGKE_kShCHrX",
        "outputId": "180f0c7a-4668-4975-c4d1-f3eb7c9725e5"
      },
      "source": [
        "mae_mse(Modelo_3)"
      ],
      "execution_count": null,
      "outputs": [
        {
          "output_type": "execute_result",
          "data": {
            "text/html": [
              "<div>\n",
              "<style scoped>\n",
              "    .dataframe tbody tr th:only-of-type {\n",
              "        vertical-align: middle;\n",
              "    }\n",
              "\n",
              "    .dataframe tbody tr th {\n",
              "        vertical-align: top;\n",
              "    }\n",
              "\n",
              "    .dataframe thead th {\n",
              "        text-align: right;\n",
              "    }\n",
              "</style>\n",
              "<table border=\"1\" class=\"dataframe\">\n",
              "  <thead>\n",
              "    <tr style=\"text-align: right;\">\n",
              "      <th></th>\n",
              "      <th>Modelo</th>\n",
              "      <th>MAE</th>\n",
              "      <th>MSE</th>\n",
              "    </tr>\n",
              "  </thead>\n",
              "  <tbody>\n",
              "    <tr>\n",
              "      <th>0</th>\n",
              "      <td>Modelo</td>\n",
              "      <td>1462.739868</td>\n",
              "      <td>18999580.0</td>\n",
              "    </tr>\n",
              "  </tbody>\n",
              "</table>\n",
              "</div>"
            ],
            "text/plain": [
              "   Modelo          MAE         MSE\n",
              "0  Modelo  1462.739868  18999580.0"
            ]
          },
          "metadata": {
            "tags": []
          },
          "execution_count": 398
        }
      ]
    },
    {
      "cell_type": "code",
      "metadata": {
        "colab": {
          "base_uri": "https://localhost:8080/",
          "height": 280
        },
        "id": "5pFg_raGCQMQ",
        "outputId": "9a7bb374-c45e-4150-f906-2e7c095313f3"
      },
      "source": [
        "mae_grafico(history_3)"
      ],
      "execution_count": null,
      "outputs": [
        {
          "output_type": "display_data",
          "data": {
            "image/png": "[encoded data removed]",
            "text/plain": [
              "<Figure size 432x288 with 1 Axes>"
            ]
          },
          "metadata": {
            "tags": [],
            "needs_background": "light"
          }
        }
      ]
    },
    {
      "cell_type": "code",
      "metadata": {
        "id": "IbubSVFgCaHJ"
      },
      "source": [
        "tf.keras.set_seed = 42 \n",
        "\n",
        "# Creación del modelo utilizando API secuencial.\n",
        "Modelo_3 = tf.keras.Sequential([\n",
        "   tf.keras.layers.Dense(100, activation = \"relu\"),\n",
        "   tf.keras.layers.Dense(100, activation = \"relu\"),\n",
        "   tf.keras.layers.Dense(1)\n",
        "])\n",
        "\n",
        "# Compilamos el modelo.\n",
        "Modelo_3.compile(loss = \"mae\",\n",
        "           optimizer = tf.keras.optimizers.Adam(0.5623413251903492),\n",
        "           metrics = [\"mae\"])\n",
        "\n",
        "# Encajamos el modelo.\n",
        "history_3 = Modelo_3.fit(xt_normalizado, yt, epochs=105, verbose=0)\n",
        "\n",
        "# Evaluamos el modelo\n",
        "Modelo_3.evaluate(xt_normalizado, yt)"
      ],
      "execution_count": null,
      "outputs": []
    },
    {
      "cell_type": "markdown",
      "metadata": {
        "id": "0Vred0N8CcrB"
      },
      "source": [
        "#PREDICCIONES"
      ]
    },
    {
      "cell_type": "markdown",
      "metadata": {
        "id": "P7J6BXmVDb8f"
      },
      "source": [
        "**Vamos a ver la representación de las predicciones del Modelo_3 y compararlas con los valores reales.**\n"
      ]
    },
    {
      "cell_type": "code",
      "metadata": {
        "colab": {
          "base_uri": "https://localhost:8080/",
          "height": 417
        },
        "id": "IvAMQWkJCfUs",
        "outputId": "6d932e50-7816-4a00-c0b6-684216533d0d"
      },
      "source": [
        "# Visualizamos las predicciones:\n",
        "y_pred_Modelo3 = Modelo_3.predict(xtest_normalizado)\n",
        "Predicciones = pd.DataFrame(y_pred_Modelo3, columns=[\"Predicciones\"])\n",
        "Predicciones"
      ],
      "execution_count": null,
      "outputs": [
        {
          "output_type": "execute_result",
          "data": {
            "text/html": [
              "<div>\n",
              "<style scoped>\n",
              "    .dataframe tbody tr th:only-of-type {\n",
              "        vertical-align: middle;\n",
              "    }\n",
              "\n",
              "    .dataframe tbody tr th {\n",
              "        vertical-align: top;\n",
              "    }\n",
              "\n",
              "    .dataframe thead th {\n",
              "        text-align: right;\n",
              "    }\n",
              "</style>\n",
              "<table border=\"1\" class=\"dataframe\">\n",
              "  <thead>\n",
              "    <tr style=\"text-align: right;\">\n",
              "      <th></th>\n",
              "      <th>Predicciones</th>\n",
              "    </tr>\n",
              "  </thead>\n",
              "  <tbody>\n",
              "    <tr>\n",
              "      <th>0</th>\n",
              "      <td>9001.311523</td>\n",
              "    </tr>\n",
              "    <tr>\n",
              "      <th>1</th>\n",
              "      <td>5246.179688</td>\n",
              "    </tr>\n",
              "    <tr>\n",
              "      <th>2</th>\n",
              "      <td>28862.939453</td>\n",
              "    </tr>\n",
              "    <tr>\n",
              "      <th>3</th>\n",
              "      <td>9425.031250</td>\n",
              "    </tr>\n",
              "    <tr>\n",
              "      <th>4</th>\n",
              "      <td>30464.597656</td>\n",
              "    </tr>\n",
              "    <tr>\n",
              "      <th>...</th>\n",
              "      <td>...</td>\n",
              "    </tr>\n",
              "    <tr>\n",
              "      <th>263</th>\n",
              "      <td>45176.152344</td>\n",
              "    </tr>\n",
              "    <tr>\n",
              "      <th>264</th>\n",
              "      <td>12261.254883</td>\n",
              "    </tr>\n",
              "    <tr>\n",
              "      <th>265</th>\n",
              "      <td>5990.092285</td>\n",
              "    </tr>\n",
              "    <tr>\n",
              "      <th>266</th>\n",
              "      <td>52207.960938</td>\n",
              "    </tr>\n",
              "    <tr>\n",
              "      <th>267</th>\n",
              "      <td>9922.048828</td>\n",
              "    </tr>\n",
              "  </tbody>\n",
              "</table>\n",
              "<p>268 rows × 1 columns</p>\n",
              "</div>"
            ],
            "text/plain": [
              "     Predicciones\n",
              "0     9001.311523\n",
              "1     5246.179688\n",
              "2    28862.939453\n",
              "3     9425.031250\n",
              "4    30464.597656\n",
              "..            ...\n",
              "263  45176.152344\n",
              "264  12261.254883\n",
              "265   5990.092285\n",
              "266  52207.960938\n",
              "267   9922.048828\n",
              "\n",
              "[268 rows x 1 columns]"
            ]
          },
          "metadata": {
            "tags": []
          },
          "execution_count": 417
        }
      ]
    },
    {
      "cell_type": "code",
      "metadata": {
        "colab": {
          "base_uri": "https://localhost:8080/",
          "height": 417
        },
        "id": "Of3aW7aKCu7u",
        "outputId": "531f5834-bb98-4624-a610-886f0d48dd70"
      },
      "source": [
        "# Visualizamos los valores reales de 'y' (set de test)\n",
        "Real = pd.DataFrame(ytest)\n",
        "Real"
      ],
      "execution_count": null,
      "outputs": [
        {
          "output_type": "execute_result",
          "data": {
            "text/html": [
              "<div>\n",
              "<style scoped>\n",
              "    .dataframe tbody tr th:only-of-type {\n",
              "        vertical-align: middle;\n",
              "    }\n",
              "\n",
              "    .dataframe tbody tr th {\n",
              "        vertical-align: top;\n",
              "    }\n",
              "\n",
              "    .dataframe thead th {\n",
              "        text-align: right;\n",
              "    }\n",
              "</style>\n",
              "<table border=\"1\" class=\"dataframe\">\n",
              "  <thead>\n",
              "    <tr style=\"text-align: right;\">\n",
              "      <th></th>\n",
              "      <th>charges</th>\n",
              "    </tr>\n",
              "  </thead>\n",
              "  <tbody>\n",
              "    <tr>\n",
              "      <th>764</th>\n",
              "      <td>9095.06825</td>\n",
              "    </tr>\n",
              "    <tr>\n",
              "      <th>887</th>\n",
              "      <td>5272.17580</td>\n",
              "    </tr>\n",
              "    <tr>\n",
              "      <th>890</th>\n",
              "      <td>29330.98315</td>\n",
              "    </tr>\n",
              "    <tr>\n",
              "      <th>1293</th>\n",
              "      <td>9301.89355</td>\n",
              "    </tr>\n",
              "    <tr>\n",
              "      <th>259</th>\n",
              "      <td>33750.29180</td>\n",
              "    </tr>\n",
              "    <tr>\n",
              "      <th>...</th>\n",
              "      <td>...</td>\n",
              "    </tr>\n",
              "    <tr>\n",
              "      <th>109</th>\n",
              "      <td>47055.53210</td>\n",
              "    </tr>\n",
              "    <tr>\n",
              "      <th>575</th>\n",
              "      <td>12222.89830</td>\n",
              "    </tr>\n",
              "    <tr>\n",
              "      <th>535</th>\n",
              "      <td>6067.12675</td>\n",
              "    </tr>\n",
              "    <tr>\n",
              "      <th>543</th>\n",
              "      <td>63770.42801</td>\n",
              "    </tr>\n",
              "    <tr>\n",
              "      <th>846</th>\n",
              "      <td>9872.70100</td>\n",
              "    </tr>\n",
              "  </tbody>\n",
              "</table>\n",
              "<p>268 rows × 1 columns</p>\n",
              "</div>"
            ],
            "text/plain": [
              "          charges\n",
              "764    9095.06825\n",
              "887    5272.17580\n",
              "890   29330.98315\n",
              "1293   9301.89355\n",
              "259   33750.29180\n",
              "...           ...\n",
              "109   47055.53210\n",
              "575   12222.89830\n",
              "535    6067.12675\n",
              "543   63770.42801\n",
              "846    9872.70100\n",
              "\n",
              "[268 rows x 1 columns]"
            ]
          },
          "metadata": {
            "tags": []
          },
          "execution_count": 424
        }
      ]
    },
    {
      "cell_type": "markdown",
      "metadata": {
        "id": "v3hrKfcFE-C9"
      },
      "source": [
        "#CONCLUSIONES"
      ]
    },
    {
      "cell_type": "markdown",
      "metadata": {
        "id": "m_8WSetSFy2F"
      },
      "source": [
        "**Todavía se podría llegar a optimizar más el modelo para obtener predicciones más exactas.**\n",
        "\n",
        "**Este Proyecto es una demostración de como se podrían realizar modelos para poder predecir, en este caso, el precio estimado de un seguro médico (variable 'y'), en función de la edad, el sexo, bmi, hijos, si es fumador y la región donde vive (variables 'x').**"
      ]
    }
  ]
}